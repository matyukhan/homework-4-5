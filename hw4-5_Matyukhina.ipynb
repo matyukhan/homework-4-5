{
 "cells": [
  {
   "cell_type": "code",
   "execution_count": 1,
   "metadata": {},
   "outputs": [],
   "source": [
    "import sqlite3\n",
    "import pandas as pd"
   ]
  },
  {
   "cell_type": "code",
   "execution_count": 2,
   "metadata": {},
   "outputs": [],
   "source": [
    "#1"
   ]
  },
  {
   "cell_type": "code",
   "execution_count": 3,
   "metadata": {},
   "outputs": [],
   "source": [
    "con = sqlite3.connect('imdb_small_index.db')\n",
    "cur = con.cursor()"
   ]
  },
  {
   "cell_type": "code",
   "execution_count": 6,
   "metadata": {},
   "outputs": [
    {
     "ename": "OperationalError",
     "evalue": "table movies already exists",
     "output_type": "error",
     "traceback": [
      "\u001b[1;31m---------------------------------------------------------------------------\u001b[0m",
      "\u001b[1;31mOperationalError\u001b[0m                          Traceback (most recent call last)",
      "\u001b[1;32m<ipython-input-6-c922ff5c4c11>\u001b[0m in \u001b[0;36m<module>\u001b[1;34m\u001b[0m\n\u001b[0;32m      7\u001b[0m     \u001b[0mPRIMARY\u001b[0m \u001b[0mKEY\u001b[0m \u001b[1;33m(\u001b[0m\u001b[0mtitle_id\u001b[0m\u001b[1;33m)\u001b[0m\u001b[1;33m\u001b[0m\u001b[1;33m\u001b[0m\u001b[0m\n\u001b[0;32m      8\u001b[0m )\n\u001b[1;32m----> 9\u001b[1;33m \"\"\")\n\u001b[0m",
      "\u001b[1;31mOperationalError\u001b[0m: table movies already exists"
     ]
    }
   ],
   "source": [
    "cur.execute(\"\"\"\n",
    "CREATE TABLE movies (\n",
    "    title_id integer,\n",
    "    title text,\n",
    "    year integer,\n",
    "    mark integer,\n",
    "    PRIMARY KEY (title_id)\n",
    ")\n",
    "\"\"\")"
   ]
  },
  {
   "cell_type": "code",
   "execution_count": 7,
   "metadata": {},
   "outputs": [],
   "source": [
    "con.commit()"
   ]
  },
  {
   "cell_type": "code",
   "execution_count": 14,
   "metadata": {},
   "outputs": [
    {
     "data": {
      "text/plain": [
       "[(241527, \"Harry Potter and the Sorcerer's Stone\", 2001),\n",
       " (298148, 'Shrek 2', 2004),\n",
       " (388795, 'Brokeback Mountain', 2005),\n",
       " (810819, 'The Danish Girl', 2015),\n",
       " (2980516, 'The Theory of Everything', 2014),\n",
       " (3136646, 'Soulless 2', 2015),\n",
       " (3183660, 'Fantastic Beasts and Where to Find Them', 2016),\n",
       " (3892434, 'That Sugar Film', 2014),\n",
       " (4123430, 'Fantastic Beasts: The Crimes of Grindelwald', 2018),\n",
       " (5352802, 'Status: Svoboden', 2016)]"
      ]
     },
     "execution_count": 14,
     "metadata": {},
     "output_type": "execute_result"
    }
   ],
   "source": [
    "movies_query = \"\"\"\n",
    "SELECT titles.title_id, title, premiered\n",
    "FROM titles\n",
    "WHERE title = \"Harry Potter and the Sorcerer's Stone\"\n",
    "    or title = \"Fantastic Beasts and Where to Find Them\"\n",
    "    or title = \"Fantastic Beasts: The Crimes of Grindelwald\"\n",
    "    or title = \"Shrek 2\"\n",
    "    or title = \"That Sugar Film\"\n",
    "    or title = \"Status: Svoboden\"\n",
    "    or title = \"Brokeback Mountain\"\n",
    "    or title = \"Soulless 2\"\n",
    "    or title = \"The Danish Girl\"\n",
    "    or title = \"The Theory of Everything\"\n",
    "\"\"\"\n",
    "\n",
    "cur.execute(movies_query)\n",
    "movies = cur.fetchall()\n",
    "movies"
   ]
  },
  {
   "cell_type": "code",
   "execution_count": 15,
   "metadata": {},
   "outputs": [],
   "source": [
    "my_rating = (10, 10, 9, 9, 10, 6, 8, 9, 6, 7)"
   ]
  },
  {
   "cell_type": "code",
   "execution_count": 16,
   "metadata": {},
   "outputs": [
    {
     "name": "stdout",
     "output_type": "stream",
     "text": [
      "[[241527, \"Harry Potter and the Sorcerer's Stone\", 2001], [298148, 'Shrek 2', 2004], [388795, 'Brokeback Mountain', 2005], [810819, 'The Danish Girl', 2015], [2980516, 'The Theory of Everything', 2014], [3136646, 'Soulless 2', 2015], [3183660, 'Fantastic Beasts and Where to Find Them', 2016], [3892434, 'That Sugar Film', 2014], [4123430, 'Fantastic Beasts: The Crimes of Grindelwald', 2018], [5352802, 'Status: Svoboden', 2016]]\n"
     ]
    }
   ],
   "source": [
    "list_of_movies = []\n",
    "for movie in movies:\n",
    "    list_of_movies.append(list(movie))\n",
    "print(list_of_movies)"
   ]
  },
  {
   "cell_type": "code",
   "execution_count": 17,
   "metadata": {},
   "outputs": [
    {
     "name": "stdout",
     "output_type": "stream",
     "text": [
      "[[241527, \"Harry Potter and the Sorcerer's Stone\", 2001, 10], [298148, 'Shrek 2', 2004, 10], [388795, 'Brokeback Mountain', 2005, 9], [810819, 'The Danish Girl', 2015, 9], [2980516, 'The Theory of Everything', 2014, 10], [3136646, 'Soulless 2', 2015, 6], [3183660, 'Fantastic Beasts and Where to Find Them', 2016, 8], [3892434, 'That Sugar Film', 2014, 9], [4123430, 'Fantastic Beasts: The Crimes of Grindelwald', 2018, 6], [5352802, 'Status: Svoboden', 2016, 7]]\n"
     ]
    }
   ],
   "source": [
    "for i in range(10):\n",
    "    list_of_movies[i].append(my_rating[i])\n",
    "print(list_of_movies)"
   ]
  },
  {
   "cell_type": "code",
   "execution_count": 19,
   "metadata": {},
   "outputs": [],
   "source": [
    "cur.executemany(\"INSERT INTO movies VALUES (?, ?, ?, ?)\", list_of_movies)\n",
    "con.commit()"
   ]
  },
  {
   "cell_type": "code",
   "execution_count": 21,
   "metadata": {},
   "outputs": [],
   "source": [
    "#2"
   ]
  },
  {
   "cell_type": "code",
   "execution_count": 22,
   "metadata": {},
   "outputs": [],
   "source": [
    "#Какие фильмы выпущены позже всего? \n",
    "#LIMIT"
   ]
  },
  {
   "cell_type": "code",
   "execution_count": 23,
   "metadata": {},
   "outputs": [],
   "source": [
    "latest_release_query = \"\"\"\n",
    "SELECT \n",
    "    title, year\n",
    "FROM \n",
    "    movies \n",
    "ORDER BY year DESC\n",
    "LIMIT 5\n",
    "\"\"\""
   ]
  },
  {
   "cell_type": "code",
   "execution_count": 24,
   "metadata": {},
   "outputs": [
    {
     "data": {
      "text/plain": [
       "[('Fantastic Beasts: The Crimes of Grindelwald', 2018),\n",
       " ('Fantastic Beasts and Where to Find Them', 2016),\n",
       " ('Status: Svoboden', 2016),\n",
       " ('The Danish Girl', 2015),\n",
       " ('Soulless 2', 2015)]"
      ]
     },
     "execution_count": 24,
     "metadata": {},
     "output_type": "execute_result"
    }
   ],
   "source": [
    "cur.execute(latest_release_query)\n",
    "cur.fetchall()"
   ]
  },
  {
   "cell_type": "code",
   "execution_count": null,
   "metadata": {},
   "outputs": [],
   "source": [
    "#Какие фильмы этого десятилетия мне понравились больше всего?\n",
    "#WHERE"
   ]
  },
  {
   "cell_type": "code",
   "execution_count": 27,
   "metadata": {},
   "outputs": [],
   "source": [
    "best_rated_this_decade = \"\"\"\n",
    "SELECT \n",
    "    title, year, mark\n",
    "FROM \n",
    "    movies\n",
    "WHERE \n",
    "    year > 2010 and mark == 10\n",
    "\"\"\""
   ]
  },
  {
   "cell_type": "code",
   "execution_count": 28,
   "metadata": {},
   "outputs": [
    {
     "data": {
      "text/plain": [
       "[('The Theory of Everything', 2014, 10)]"
      ]
     },
     "execution_count": 28,
     "metadata": {},
     "output_type": "execute_result"
    }
   ],
   "source": [
    "cur.execute(best_rated_this_decade)\n",
    "cur.fetchall()"
   ]
  },
  {
   "cell_type": "code",
   "execution_count": null,
   "metadata": {},
   "outputs": [],
   "source": [
    "#Превышает ли число недавно просмотренных мной фильмов с Эдди Редмейном или Эммой Уотсон 3 или нет?\n",
    "#JOIN\n",
    "#COUNT\n",
    "#GROUP BY + HAVING"
   ]
  },
  {
   "cell_type": "code",
   "execution_count": 29,
   "metadata": {},
   "outputs": [],
   "source": [
    "fav_actors_query = \"\"\"\n",
    "SELECT \n",
    "    name, COUNT(movies.title_id) as n_films\n",
    "FROM movies \n",
    "    JOIN crew ON movies.title_id = crew.title_id\n",
    "    JOIN people ON crew.person_id = people.person_id\n",
    "WHERE name IN (\"Emma Watson\", \"Eddie Redmayne\")\n",
    "GROUP BY name\n",
    "HAVING n_films > 3\n",
    "\"\"\"\n"
   ]
  },
  {
   "cell_type": "code",
   "execution_count": 30,
   "metadata": {},
   "outputs": [
    {
     "data": {
      "text/plain": [
       "[('Eddie Redmayne', 4)]"
      ]
     },
     "execution_count": 30,
     "metadata": {},
     "output_type": "execute_result"
    }
   ],
   "source": [
    "cur.execute(fav_actors_query)\n",
    "cur.fetchall()"
   ]
  },
  {
   "cell_type": "code",
   "execution_count": 31,
   "metadata": {},
   "outputs": [],
   "source": [
    "# Кто из актеров участвовал в обоих частях \"Фантастических тварей\"?\n",
    "#GROUP_CONCAT"
   ]
  },
  {
   "cell_type": "code",
   "execution_count": 32,
   "metadata": {},
   "outputs": [],
   "source": [
    "common_cast_query = \"\"\"\n",
    "SELECT\n",
    "    title, GROUP_CONCAT(name, ', ')\n",
    "FROM movies\n",
    "    JOIN crew ON movies.title_id = crew.title_id\n",
    "    JOIN people ON crew.person_id = people.person_id\n",
    "    JOIN role_categories ON crew.category = role_categories.id\n",
    "WHERE role_type IN ('actress','actor') AND title LIKE \"Fantastic%\"\n",
    "GROUP BY movies.title_id\n",
    "\"\"\""
   ]
  },
  {
   "cell_type": "code",
   "execution_count": 33,
   "metadata": {},
   "outputs": [
    {
     "data": {
      "text/plain": [
       "[('Fantastic Beasts and Where to Find Them',\n",
       "  'Eddie Redmayne, Katherine Waterston, Alison Sudol, Dan Fogler'),\n",
       " ('Fantastic Beasts: The Crimes of Grindelwald',\n",
       "  'Eddie Redmayne, Katherine Waterston, Dan Fogler, Johnny Depp')]"
      ]
     },
     "execution_count": 33,
     "metadata": {},
     "output_type": "execute_result"
    }
   ],
   "source": [
    "cur.execute(common_cast_query)\n",
    "cur.fetchall()"
   ]
  },
  {
   "cell_type": "code",
   "execution_count": null,
   "metadata": {},
   "outputs": [],
   "source": [
    "#3"
   ]
  },
  {
   "cell_type": "code",
   "execution_count": 34,
   "metadata": {},
   "outputs": [],
   "source": [
    "import matplotlib.pyplot as plt"
   ]
  },
  {
   "cell_type": "code",
   "execution_count": 35,
   "metadata": {},
   "outputs": [],
   "source": [
    "#Каково распределение моих оценок относительно года релиза фильма?\n",
    "#AVG"
   ]
  },
  {
   "cell_type": "code",
   "execution_count": 36,
   "metadata": {},
   "outputs": [],
   "source": [
    "marks_by_year_query = \"\"\"\n",
    "SELECT \n",
    "    year, AVG(mark)\n",
    "FROM movies\n",
    "GROUP BY year\n",
    "\"\"\""
   ]
  },
  {
   "cell_type": "code",
   "execution_count": 38,
   "metadata": {},
   "outputs": [],
   "source": [
    "cur.execute(marks_by_year_query)\n",
    "data = cur.fetchall()"
   ]
  },
  {
   "cell_type": "code",
   "execution_count": 39,
   "metadata": {},
   "outputs": [],
   "source": [
    "years = []"
   ]
  },
  {
   "cell_type": "code",
   "execution_count": 40,
   "metadata": {},
   "outputs": [],
   "source": [
    "rates = []"
   ]
  },
  {
   "cell_type": "code",
   "execution_count": 41,
   "metadata": {},
   "outputs": [],
   "source": [
    "for item in data:\n",
    "    years.append(item[0])\n",
    "    rates.append(item[1])"
   ]
  },
  {
   "cell_type": "code",
   "execution_count": 42,
   "metadata": {},
   "outputs": [
    {
     "data": {
      "image/png": "[encoded data removed]",
      "text/plain": [
       "<Figure size 432x288 with 1 Axes>"
      ]
     },
     "metadata": {
      "needs_background": "light"
     },
     "output_type": "display_data"
    }
   ],
   "source": [
    "X = years\n",
    "Y = rates\n",
    "plt.plot(X, Y) \n",
    "plt.title('Распределение оценок по годам')\n",
    "plt.ylabel('Оценка')\n",
    "plt.show()"
   ]
  },
  {
   "cell_type": "code",
   "execution_count": null,
   "metadata": {},
   "outputs": [],
   "source": [
    "#4"
   ]
  },
  {
   "cell_type": "code",
   "execution_count": 44,
   "metadata": {},
   "outputs": [],
   "source": [
    "#картинка в репо"
   ]
  },
  {
   "cell_type": "code",
   "execution_count": null,
   "metadata": {},
   "outputs": [],
   "source": [
    "#К таблице titles нужно присоединить таблицу rating, a к полученной -- предварительно созданную таблицу voters,\n",
    "#в которой может храниться информация об оценке пользователя(rate), \n",
    "#его возрасте(age), гендере(gender) и указание, является ли он кинокритиком или любителем(is_critic)"
   ]
  }
 ],
 "metadata": {
  "kernelspec": {
   "display_name": "Python 3",
   "language": "python",
   "name": "python3"
  },
  "language_info": {
   "codemirror_mode": {
    "name": "ipython",
    "version": 3
   },
   "file_extension": ".py",
   "mimetype": "text/x-python",
   "name": "python",
   "nbconvert_exporter": "python",
   "pygments_lexer": "ipython3",
   "version": "3.7.4"
  }
 },
 "nbformat": 4,
 "nbformat_minor": 4
}
